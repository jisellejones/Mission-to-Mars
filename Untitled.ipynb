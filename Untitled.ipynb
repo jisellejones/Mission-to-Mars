{
 "cells": [
  {
   "cell_type": "code",
   "execution_count": null,
   "id": "d4736146",
   "metadata": {},
   "outputs": [],
   "source": [
    "#hold\n",
    "# find url to info and navigate there\n",
    "#for x in range(0,3)\n",
    "# tag_item = html_soup.find('div', class_=\"collapsible results\")\n",
    "# tag_url = html_soup.find_all('a', class_='itemLink product-item')[x]['href']\n",
    "# tag_url\n",
    "\n",
    "# tag_url = tag_item.find_all('a')['href']\n",
    "# tag_url\n",
    "    \n",
    "# 2 variables - image_url, title\n",
    "\n",
    "#('div', class_=\"item\")a.[href] - there are 4 of them in a row\n",
    "#create a list of dicitionaries {'image_url' : img_url}, 'title': title}"
   ]
  }
 ],
 "metadata": {
  "kernelspec": {
   "display_name": "pythonData3.7",
   "language": "python",
   "name": "pythondata3.7"
  },
  "language_info": {
   "codemirror_mode": {
    "name": "ipython",
    "version": 3
   },
   "file_extension": ".py",
   "mimetype": "text/x-python",
   "name": "python",
   "nbconvert_exporter": "python",
   "pygments_lexer": "ipython3",
   "version": "3.7.10"
  }
 },
 "nbformat": 4,
 "nbformat_minor": 5
}
